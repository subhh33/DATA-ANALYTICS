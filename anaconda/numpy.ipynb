{
 "cells": [
  {
   "cell_type": "code",
   "execution_count": 36,
   "id": "14246788",
   "metadata": {},
   "outputs": [],
   "source": [
    "import numpy as np"
   ]
  },
  {
   "cell_type": "markdown",
   "id": "e10507d5",
   "metadata": {},
   "source": [
    "converting a list to array\n"
   ]
  },
  {
   "cell_type": "code",
   "execution_count": 37,
   "id": "b781da8a",
   "metadata": {},
   "outputs": [
    {
     "name": "stdout",
     "output_type": "stream",
     "text": [
      "<class 'list'>\n",
      "<class 'numpy.ndarray'>\n"
     ]
    }
   ],
   "source": [
    "lst=[1,2,3,4]\n",
    "print(type(lst))\n",
    "arr=np.array(lst)\n",
    "print(type(arr))"
   ]
  },
  {
   "cell_type": "code",
   "execution_count": 26,
   "id": "a69f4e87",
   "metadata": {},
   "outputs": [],
   "source": [
    "# arr=np.array(lst,ndmin=1)"
   ]
  },
  {
   "cell_type": "code",
   "execution_count": 27,
   "id": "41a37ea6",
   "metadata": {},
   "outputs": [
    {
     "data": {
      "text/plain": [
       "array([1, 2, 3, 4])"
      ]
     },
     "execution_count": 27,
     "metadata": {},
     "output_type": "execute_result"
    }
   ],
   "source": [
    "# arr"
   ]
  },
  {
   "cell_type": "code",
   "execution_count": 28,
   "id": "aa44a9ca",
   "metadata": {},
   "outputs": [],
   "source": [
    "arr=np.array(lst,ndmin=2)"
   ]
  },
  {
   "cell_type": "code",
   "execution_count": 29,
   "id": "a109241b",
   "metadata": {},
   "outputs": [
    {
     "data": {
      "text/plain": [
       "array([[1, 2, 3, 4]])"
      ]
     },
     "execution_count": 29,
     "metadata": {},
     "output_type": "execute_result"
    }
   ],
   "source": [
    "# arr"
   ]
  },
  {
   "cell_type": "markdown",
   "id": "c1e2cc89",
   "metadata": {},
   "source": [
    "# 2.Arrange function"
   ]
  },
  {
   "cell_type": "markdown",
   "id": "4769f9ba",
   "metadata": {},
   "source": [
    "The arange([start,] stop[, step,][, dtype]) : Returns an array with evenly spaced elements as per the interval. The interval mentioned is half-opened i.e. [Start, Stop) "
   ]
  },
  {
   "cell_type": "code",
   "execution_count": 40,
   "id": "590d2301",
   "metadata": {},
   "outputs": [
    {
     "name": "stdout",
     "output_type": "stream",
     "text": [
      "1\n",
      "3\n",
      "5\n",
      "7\n",
      "9\n"
     ]
    }
   ],
   "source": [
    "for i in range(1,10,2):\n",
    "    print(i)\n"
   ]
  },
  {
   "cell_type": "code",
   "execution_count": 41,
   "id": "32ee48f7",
   "metadata": {},
   "outputs": [
    {
     "data": {
      "text/plain": [
       "array([1, 3, 5, 7, 9])"
      ]
     },
     "execution_count": 41,
     "metadata": {},
     "output_type": "execute_result"
    }
   ],
   "source": [
    "np.arange(1,10,2)"
   ]
  },
  {
   "cell_type": "markdown",
   "id": "bcc80ce6",
   "metadata": {},
   "source": [
    "#  Multidimension array"
   ]
  },
  {
   "cell_type": "markdown",
   "id": "ab6d02f0",
   "metadata": {},
   "source": [
    "arr= np.array([[1,2,3],[4,5,6],[7,8,9]])"
   ]
  },
  {
   "cell_type": "code",
   "execution_count": 42,
   "id": "72cd2d42",
   "metadata": {},
   "outputs": [],
   "source": [
    "arr= np.array([[1,2,3],[4,5,6],[7,8,9]])"
   ]
  },
  {
   "cell_type": "code",
   "execution_count": 43,
   "id": "2a1360cf",
   "metadata": {},
   "outputs": [
    {
     "data": {
      "text/plain": [
       "array([[1, 2, 3],\n",
       "       [4, 5, 6],\n",
       "       [7, 8, 9]])"
      ]
     },
     "execution_count": 43,
     "metadata": {},
     "output_type": "execute_result"
    }
   ],
   "source": [
    "arr"
   ]
  },
  {
   "cell_type": "markdown",
   "id": "08ce2e3b",
   "metadata": {},
   "source": [
    "# SIZE OF ARRAY\n"
   ]
  },
  {
   "cell_type": "markdown",
   "id": "fd591240",
   "metadata": {},
   "source": [
    "\n",
    "In Python, numpy.size() function count the number of elements along a given axis (0 - Rows | 1 - Columns)"
   ]
  },
  {
   "cell_type": "code",
   "execution_count": 55,
   "id": "6f46df05",
   "metadata": {
    "scrolled": true
   },
   "outputs": [
    {
     "name": "stdout",
     "output_type": "stream",
     "text": [
      "Total size : 12\n",
      "row  size : 4\n",
      "cols size : 3\n"
     ]
    },
    {
     "data": {
      "text/plain": [
       "array([[1, 2, 3],\n",
       "       [4, 5, 6],\n",
       "       [7, 8, 9],\n",
       "       [3, 4, 5]])"
      ]
     },
     "execution_count": 55,
     "metadata": {},
     "output_type": "execute_result"
    }
   ],
   "source": [
    "arr= np.array([[1,2,3],[4,5,6],[7,8,9],[3,4,5]])\n",
    "print('Total size :', arr.size)\n",
    "\n",
    "print('row  size :', np.size(arr,0))\n",
    "print('cols size :', np.size(arr,1))\n",
    "\n",
    "arr"
   ]
  },
  {
   "cell_type": "markdown",
   "id": "e4aa987f",
   "metadata": {},
   "source": [
    "SHAPE OF ARRAY"
   ]
  },
  {
   "cell_type": "markdown",
   "id": "200d8b03",
   "metadata": {},
   "source": [
    "\n",
    "The shape of an array can be defined as the number of elements in each dimension. Dimension is the number of indices or subscripts, that we require in order to specify an individual element of an array"
   ]
  },
  {
   "cell_type": "code",
   "execution_count": 56,
   "id": "3b371ecb",
   "metadata": {},
   "outputs": [
    {
     "data": {
      "text/plain": [
       "(4, 3)"
      ]
     },
     "execution_count": 56,
     "metadata": {},
     "output_type": "execute_result"
    }
   ],
   "source": [
    "arr.shape"
   ]
  },
  {
   "cell_type": "markdown",
   "id": "46c15006",
   "metadata": {},
   "source": [
    "DTYPE FUNCTOIN"
   ]
  },
  {
   "cell_type": "markdown",
   "id": "99ae5f8a",
   "metadata": {},
   "source": [
    "\n",
    "Every ndarray has an associated data type (dtype) object. This data type object (dtype) informs us about the layout of the array. This means it gives us information about:"
   ]
  },
  {
   "cell_type": "code",
   "execution_count": null,
   "id": "97cce9de",
   "metadata": {},
   "outputs": [],
   "source": [
    "arr1= np.array([1,2,3,3,4,5])\n",
    "arr2= np.array([1.3,2,3,3,4,5.4])\n",
    "\n",
    "arr1,arr2\n",
    "               "
   ]
  },
  {
   "cell_type": "code",
   "execution_count": 62,
   "id": "f6080076",
   "metadata": {},
   "outputs": [
    {
     "name": "stdout",
     "output_type": "stream",
     "text": [
      "int64\n",
      "float64\n"
     ]
    }
   ],
   "source": [
    "print(arr1.dtype)\n",
    "print(arr2.dtype)"
   ]
  },
  {
   "cell_type": "markdown",
   "id": "07b03f38",
   "metadata": {},
   "source": [
    "NDIM  FUNCTION"
   ]
  },
  {
   "cell_type": "markdown",
   "id": "0c06d0e1",
   "metadata": {},
   "source": [
    "numpy.ndarray.ndim() function return the number of dimensions of an array."
   ]
  },
  {
   "cell_type": "code",
   "execution_count": 65,
   "id": "b66971fe",
   "metadata": {},
   "outputs": [
    {
     "name": "stdout",
     "output_type": "stream",
     "text": [
      "1\n"
     ]
    }
   ],
   "source": [
    "arr=np.array([1,2,3,4,5,6])\n",
    "print(arr.ndim)"
   ]
  },
  {
   "cell_type": "code",
   "execution_count": 67,
   "id": "0d016775",
   "metadata": {},
   "outputs": [
    {
     "name": "stdout",
     "output_type": "stream",
     "text": [
      "2\n"
     ]
    }
   ],
   "source": [
    "arr1=np.array([[1,2,3,4,5,6],[1,2,3,4,5,6]])\n",
    "\n",
    "print(arr1.ndim)"
   ]
  },
  {
   "cell_type": "markdown",
   "id": "47c6f734",
   "metadata": {},
   "source": [
    "ZEROS FUNCTION"
   ]
  },
  {
   "cell_type": "markdown",
   "id": "d0f68abb",
   "metadata": {},
   "source": [
    "\n",
    "The numpy.zeros() function returns a new array of given shape and type, with zeros. Syntax:\n",
    "\n",
    "numpy.zeros(shape, dtype = None)"
   ]
  },
  {
   "cell_type": "markdown",
   "id": "e4946234",
   "metadata": {},
   "source": [
    "# 7. Ndim Function"
   ]
  },
  {
   "cell_type": "code",
   "execution_count": 72,
   "id": "d0e4ce0b",
   "metadata": {},
   "outputs": [],
   "source": [
    "arr1 = np.array([1,2,3,1,2,3])\n",
    "arr2 = np.array([[1,2,3],[1,2,3]])\n",
    "\n"
   ]
  },
  {
   "cell_type": "code",
   "execution_count": 69,
   "id": "d4a7d266",
   "metadata": {},
   "outputs": [
    {
     "name": "stdout",
     "output_type": "stream",
     "text": [
      "1\n",
      "2\n"
     ]
    }
   ],
   "source": [
    "print(arr1.ndim)\n",
    "print(arr2.ndim)\n"
   ]
  },
  {
   "cell_type": "code",
   "execution_count": 70,
   "id": "acb062fe",
   "metadata": {},
   "outputs": [
    {
     "name": "stdout",
     "output_type": "stream",
     "text": [
      "3\n"
     ]
    }
   ],
   "source": [
    "arr3 = np.array(arr1, ndmin = 3)\n",
    "print(arr3.ndim)"
   ]
  },
  {
   "cell_type": "markdown",
   "id": "332afc1d",
   "metadata": {},
   "source": [
    "# ZERO FUNCTION"
   ]
  },
  {
   "cell_type": "code",
   "execution_count": 75,
   "id": "60ddaa80",
   "metadata": {},
   "outputs": [],
   "source": [
    "arr=np.zeros(shape=(3,5))"
   ]
  },
  {
   "cell_type": "code",
   "execution_count": 76,
   "id": "d7a97895",
   "metadata": {},
   "outputs": [
    {
     "data": {
      "text/plain": [
       "array([[0., 0., 0., 0., 0.],\n",
       "       [0., 0., 0., 0., 0.],\n",
       "       [0., 0., 0., 0., 0.]])"
      ]
     },
     "execution_count": 76,
     "metadata": {},
     "output_type": "execute_result"
    }
   ],
   "source": [
    "arr"
   ]
  },
  {
   "cell_type": "code",
   "execution_count": 77,
   "id": "474cd390",
   "metadata": {},
   "outputs": [
    {
     "name": "stdout",
     "output_type": "stream",
     "text": [
      "float64\n"
     ]
    }
   ],
   "source": [
    "print(arr.dtype)"
   ]
  },
  {
   "cell_type": "markdown",
   "id": "978cc170",
   "metadata": {},
   "source": [
    "ones function"
   ]
  },
  {
   "cell_type": "code",
   "execution_count": 78,
   "id": "46ef8391",
   "metadata": {},
   "outputs": [],
   "source": [
    "arr=np.zeros(shape=(3,5),dtype=int)"
   ]
  },
  {
   "cell_type": "code",
   "execution_count": 79,
   "id": "3282da41",
   "metadata": {},
   "outputs": [
    {
     "name": "stdout",
     "output_type": "stream",
     "text": [
      "int64\n"
     ]
    }
   ],
   "source": [
    "print(arr.dtype)"
   ]
  },
  {
   "cell_type": "markdown",
   "id": "25e7f9fc",
   "metadata": {},
   "source": [
    "# eye funcrtion"
   ]
  },
  {
   "cell_type": "markdown",
   "id": "8ef81b30",
   "metadata": {},
   "source": [
    "The eye tool returns a 2-D array with  1’s as the diagonal and  0’s elsewhere. The diagonal can be main, upper, or lower depending on the optional parameter k.\n",
    "\n"
   ]
  },
  {
   "cell_type": "code",
   "execution_count": 86,
   "id": "3bb5cc0c",
   "metadata": {},
   "outputs": [
    {
     "data": {
      "text/plain": [
       "array([[1, 0, 0, 0, 0, 0],\n",
       "       [0, 1, 0, 0, 0, 0],\n",
       "       [0, 0, 1, 0, 0, 0],\n",
       "       [0, 0, 0, 1, 0, 0],\n",
       "       [0, 0, 0, 0, 1, 0],\n",
       "       [0, 0, 0, 0, 0, 1]])"
      ]
     },
     "execution_count": 86,
     "metadata": {},
     "output_type": "execute_result"
    }
   ],
   "source": [
    "np.eye(6,dtype=int)\n",
    "\n"
   ]
  },
  {
   "cell_type": "code",
   "execution_count": 89,
   "id": "7c24276f",
   "metadata": {},
   "outputs": [
    {
     "data": {
      "text/plain": [
       "array([[1, 0, 0, 0],\n",
       "       [0, 1, 0, 0],\n",
       "       [0, 0, 1, 0],\n",
       "       [0, 0, 0, 1]])"
      ]
     },
     "execution_count": 89,
     "metadata": {},
     "output_type": "execute_result"
    }
   ],
   "source": [
    "np.eye (4,dtype=int)"
   ]
  },
  {
   "cell_type": "markdown",
   "id": "d3f04b7d",
   "metadata": {},
   "source": [
    "# empty function"
   ]
  },
  {
   "cell_type": "code",
   "execution_count": 90,
   "id": "70cea359",
   "metadata": {},
   "outputs": [
    {
     "data": {
      "text/plain": [
       "array([[0., 0., 0., 0., 0.],\n",
       "       [0., 0., 0., 0., 0.],\n",
       "       [0., 0., 0., 0., 0.],\n",
       "       [0., 0., 0., 0., 0.],\n",
       "       [0., 0., 0., 0., 0.]])"
      ]
     },
     "execution_count": 90,
     "metadata": {},
     "output_type": "execute_result"
    }
   ],
   "source": [
    "np.empty(shape=(5,5))"
   ]
  },
  {
   "cell_type": "code",
   "execution_count": 94,
   "id": "cdd3f8f0",
   "metadata": {},
   "outputs": [
    {
     "data": {
      "text/plain": [
       "array([[0.27097409, 0.96290669, 0.14438197, 0.71024675],\n",
       "       [0.68047594, 0.23634236, 0.96610083, 0.21493327],\n",
       "       [0.24666028, 0.53637988, 0.97583211, 0.94238105]])"
      ]
     },
     "execution_count": 94,
     "metadata": {},
     "output_type": "execute_result"
    }
   ],
   "source": [
    "np.random.rand(3,4)"
   ]
  },
  {
   "cell_type": "code",
   "execution_count": 99,
   "id": "47aa05bd",
   "metadata": {},
   "outputs": [
    {
     "data": {
      "text/plain": [
       "array([9, 4, 5, 5, 1, 7, 6, 8, 8, 3])"
      ]
     },
     "execution_count": 99,
     "metadata": {},
     "output_type": "execute_result"
    }
   ],
   "source": [
    "np.random.randint(low=1,high=10,size=10)"
   ]
  },
  {
   "cell_type": "code",
   "execution_count": 98,
   "id": "2c6f2af7",
   "metadata": {},
   "outputs": [
    {
     "data": {
      "text/plain": [
       "array([ 0.35557174, -0.49660378, -0.06199148, -1.35406467,  1.1961784 ,\n",
       "       -0.97122524, -2.10819965,  0.76714594,  1.89935026, -0.46202717,\n",
       "        0.5955775 , -0.38000394, -0.34528765,  0.84922903, -0.68751943,\n",
       "       -0.66488935, -0.21441991, -1.28482648,  0.41124436, -1.4960438 ,\n",
       "       -0.69060696,  0.8499318 , -0.25431453,  0.80696979, -0.20704432,\n",
       "       -0.4015174 ,  0.13892279, -0.36375761, -1.07721895, -1.56170188,\n",
       "       -1.09449193,  0.38644334, -1.49299829, -0.66133526, -1.48311275,\n",
       "        0.38190906,  2.80400809, -1.33675624,  0.57525398, -2.80014564,\n",
       "        0.36692799,  1.42565144,  0.57206748, -0.58168287, -1.45240558,\n",
       "        0.10876704, -0.83642964,  1.11921065,  1.10973724,  0.26812806,\n",
       "        0.48837248, -0.59918126,  0.57579216,  0.53558356, -0.06252251,\n",
       "        0.59624439, -0.51582503, -0.26421347,  0.3969871 ,  0.4088543 ,\n",
       "       -0.15134589, -1.19746983,  1.27735507, -0.81781468, -0.60419858,\n",
       "        0.57341596, -0.15071201, -1.30396129, -0.2060325 , -1.28619849,\n",
       "        0.34511269, -0.24670425, -0.33013168, -0.3373982 , -0.71834171,\n",
       "       -0.21735749, -2.07094711,  1.97060359,  0.23504052,  1.46407089,\n",
       "        1.86615434,  0.47584529, -1.82278895,  0.8663479 ,  1.29976661,\n",
       "        0.52240833,  0.37447779, -1.74360471, -1.82428942,  1.51626338,\n",
       "       -0.71140237, -0.08558371,  1.30177586, -0.56199585,  0.71677147,\n",
       "       -0.14956079, -0.5128707 , -1.26110567, -0.5496841 , -0.57862539])"
      ]
     },
     "execution_count": 98,
     "metadata": {},
     "output_type": "execute_result"
    }
   ],
   "source": [
    "np.random.randn(100)#as much as want random number"
   ]
  },
  {
   "cell_type": "code",
   "execution_count": 104,
   "id": "22a6d62a",
   "metadata": {},
   "outputs": [
    {
     "data": {
      "text/plain": [
       "(array([ 1.,  4.,  9.,  7., 17., 20., 15., 14.,  9.,  4.]),\n",
       " array([-2.81929464, -2.30753283, -1.79577101, -1.28400919, -0.77224738,\n",
       "        -0.26048556,  0.25127625,  0.76303807,  1.27479988,  1.7865617 ,\n",
       "         2.29832351]),\n",
       " <BarContainer object of 10 artists>)"
      ]
     },
     "execution_count": 104,
     "metadata": {},
     "output_type": "execute_result"
    },
    {
     "data": {
      "image/png": "[encoded data removed]",
      "text/plain": [
       "<Figure size 432x288 with 1 Axes>"
      ]
     },
     "metadata": {
      "needs_background": "light"
     },
     "output_type": "display_data"
    }
   ],
   "source": [
    "import matplotlib.pyplot as plt\n",
    "\n",
    "%matplotlib inline\n",
    "plt.hist(np.random.randn(100))"
   ]
  },
  {
   "cell_type": "code",
   "execution_count": 113,
   "id": "3aa89e5d",
   "metadata": {},
   "outputs": [
    {
     "data": {
      "text/plain": [
       "(array([2.00000e+00, 1.00000e+00, 2.00000e+00, 2.00000e+00, 8.00000e+00,\n",
       "        1.00000e+01, 1.80000e+01, 3.10000e+01, 4.40000e+01, 7.70000e+01,\n",
       "        1.21000e+02, 1.76000e+02, 2.50000e+02, 3.16000e+02, 5.17000e+02,\n",
       "        7.44000e+02, 1.05900e+03, 1.47200e+03, 2.09500e+03, 2.85400e+03,\n",
       "        4.02100e+03, 5.35800e+03, 7.27900e+03, 9.77200e+03, 1.24610e+04,\n",
       "        1.64690e+04, 2.13750e+04, 2.73970e+04, 3.45530e+04, 4.35130e+04,\n",
       "        5.36420e+04, 6.55200e+04, 7.96140e+04, 9.53910e+04, 1.12961e+05,\n",
       "        1.32981e+05, 1.53660e+05, 1.76081e+05, 2.01178e+05, 2.25920e+05,\n",
       "        2.51865e+05, 2.76647e+05, 3.02685e+05, 3.26195e+05, 3.47942e+05,\n",
       "        3.65863e+05, 3.83577e+05, 3.96536e+05, 4.04642e+05, 4.10151e+05,\n",
       "        4.09025e+05, 4.07826e+05, 3.97808e+05, 3.85934e+05, 3.71952e+05,\n",
       "        3.52286e+05, 3.30946e+05, 3.07454e+05, 2.82750e+05, 2.56971e+05,\n",
       "        2.30859e+05, 2.06194e+05, 1.81845e+05, 1.59182e+05, 1.37144e+05,\n",
       "        1.16714e+05, 9.97710e+04, 8.22640e+04, 6.87640e+04, 5.59690e+04,\n",
       "        4.54130e+04, 3.64790e+04, 2.88270e+04, 2.26860e+04, 1.75620e+04,\n",
       "        1.35880e+04, 1.03860e+04, 7.79300e+03, 5.78400e+03, 4.27900e+03,\n",
       "        3.09400e+03, 2.32600e+03, 1.58700e+03, 1.10200e+03, 7.87000e+02,\n",
       "        5.43000e+02, 3.57000e+02, 2.43000e+02, 1.42000e+02, 1.38000e+02,\n",
       "        6.80000e+01, 3.70000e+01, 2.30000e+01, 2.00000e+01, 5.00000e+00,\n",
       "        1.10000e+01, 7.00000e+00, 5.00000e+00, 0.00000e+00, 2.00000e+00]),\n",
       " array([-5.15910963, -5.05615153, -4.95319343, -4.85023533, -4.74727722,\n",
       "        -4.64431912, -4.54136102, -4.43840292, -4.33544481, -4.23248671,\n",
       "        -4.12952861, -4.02657051, -3.9236124 , -3.8206543 , -3.7176962 ,\n",
       "        -3.6147381 , -3.51177999, -3.40882189, -3.30586379, -3.20290569,\n",
       "        -3.09994758, -2.99698948, -2.89403138, -2.79107328, -2.68811517,\n",
       "        -2.58515707, -2.48219897, -2.37924087, -2.27628276, -2.17332466,\n",
       "        -2.07036656, -1.96740846, -1.86445035, -1.76149225, -1.65853415,\n",
       "        -1.55557605, -1.45261794, -1.34965984, -1.24670174, -1.14374364,\n",
       "        -1.04078553, -0.93782743, -0.83486933, -0.73191123, -0.62895312,\n",
       "        -0.52599502, -0.42303692, -0.32007882, -0.21712071, -0.11416261,\n",
       "        -0.01120451,  0.09175359,  0.1947117 ,  0.2976698 ,  0.4006279 ,\n",
       "         0.503586  ,  0.60654411,  0.70950221,  0.81246031,  0.91541841,\n",
       "         1.01837652,  1.12133462,  1.22429272,  1.32725083,  1.43020893,\n",
       "         1.53316703,  1.63612513,  1.73908324,  1.84204134,  1.94499944,\n",
       "         2.04795754,  2.15091565,  2.25387375,  2.35683185,  2.45978995,\n",
       "         2.56274806,  2.66570616,  2.76866426,  2.87162236,  2.97458047,\n",
       "         3.07753857,  3.18049667,  3.28345477,  3.38641288,  3.48937098,\n",
       "         3.59232908,  3.69528718,  3.79824529,  3.90120339,  4.00416149,\n",
       "         4.10711959,  4.2100777 ,  4.3130358 ,  4.4159939 ,  4.518952  ,\n",
       "         4.62191011,  4.72486821,  4.82782631,  4.93078441,  5.03374252,\n",
       "         5.13670062]),\n",
       " <BarContainer object of 100 artists>)"
      ]
     },
     "execution_count": 113,
     "metadata": {},
     "output_type": "execute_result"
    },
    {
     "data": {
      "image/png": "[encoded data removed]",
      "text/plain": [
       "<Figure size 432x288 with 1 Axes>"
      ]
     },
     "metadata": {
      "needs_background": "light"
     },
     "output_type": "display_data"
    }
   ],
   "source": [
    "import matplotlib.pyplot as plt\n",
    "\n",
    "%matplotlib inline\n",
    "plt.hist(np.random.randn(10000000),bins=100)"
   ]
  },
  {
   "cell_type": "markdown",
   "id": "4cf99206",
   "metadata": {},
   "source": [
    "# Reshape function -will not alter the original data"
   ]
  },
  {
   "cell_type": "code",
   "execution_count": 116,
   "id": "ebcce1ce",
   "metadata": {},
   "outputs": [
    {
     "name": "stdout",
     "output_type": "stream",
     "text": [
      "(3, 4)\n",
      "(4, 3)\n"
     ]
    }
   ],
   "source": [
    "arr=np.random.randint(1,15,(3,4))\n",
    "\n",
    "print(arr.shape)\n",
    "\n",
    "arr=arr.reshape(4,3)\n",
    "\n",
    "print(arr.shape)"
   ]
  },
  {
   "cell_type": "markdown",
   "id": "a34263da",
   "metadata": {},
   "source": [
    "# line space"
   ]
  },
  {
   "cell_type": "code",
   "execution_count": 120,
   "id": "0b1bc392",
   "metadata": {},
   "outputs": [
    {
     "data": {
      "text/plain": [
       "array([ 1.  ,  3.25,  5.5 ,  7.75, 10.  ])"
      ]
     },
     "execution_count": 120,
     "metadata": {},
     "output_type": "execute_result"
    }
   ],
   "source": [
    "np.linspace(1,10,5)"
   ]
  },
  {
   "cell_type": "markdown",
   "id": "ec480ed8",
   "metadata": {},
   "source": [
    "# flatten function"
   ]
  },
  {
   "cell_type": "code",
   "execution_count": 124,
   "id": "e61f9795",
   "metadata": {},
   "outputs": [
    {
     "name": "stdout",
     "output_type": "stream",
     "text": [
      "(3, 4)\n",
      "----------------------------------------\n",
      "[11 10  7  9  8  7  7 11 11  2 12  5]\n",
      "(12,)\n"
     ]
    },
    {
     "data": {
      "text/plain": [
       "array([11, 10,  7,  9,  8,  7,  7, 11, 11,  2, 12,  5])"
      ]
     },
     "execution_count": 124,
     "metadata": {},
     "output_type": "execute_result"
    }
   ],
   "source": [
    "arr=np.random.randint(1,15,(3,4))\n",
    "\n",
    "print(arr.shape)\n",
    "print('-'*40)\n",
    "arr=arr.flatten()\n",
    "print(arr)\n",
    "print(arr.shape)\n",
    "arr"
   ]
  },
  {
   "cell_type": "code",
   "execution_count": 125,
   "id": "de7be32b",
   "metadata": {},
   "outputs": [
    {
     "name": "stdout",
     "output_type": "stream",
     "text": [
      "[  100.           166.81005372   278.25594022   464.15888336\n",
      "   774.26368268  1291.54966501  2154.43469003  3593.8136638\n",
      "  5994.84250319 10000.        ]\n",
      "[ 4.          4.66611616  5.44316     6.34960421  7.4069977   8.64047791\n",
      " 10.0793684  11.75787594 13.71590373 16.        ]\n"
     ]
    }
   ],
   "source": [
    "print(np.logspace(2,4,10))\n",
    "print(np.logspace(2,4,10,base=2))"
   ]
  },
  {
   "cell_type": "code",
   "execution_count": null,
   "id": "e6d497ed",
   "metadata": {},
   "outputs": [],
   "source": []
  }
 ],
 "metadata": {
  "kernelspec": {
   "display_name": "Python 3 (ipykernel)",
   "language": "python",
   "name": "python3"
  },
  "language_info": {
   "codemirror_mode": {
    "name": "ipython",
    "version": 3
   },
   "file_extension": ".py",
   "mimetype": "text/x-python",
   "name": "python",
   "nbconvert_exporter": "python",
   "pygments_lexer": "ipython3",
   "version": "3.9.7"
  }
 },
 "nbformat": 4,
 "nbformat_minor": 5
}
