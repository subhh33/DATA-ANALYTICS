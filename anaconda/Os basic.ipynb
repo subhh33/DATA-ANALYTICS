{
 "cells": [
  {
   "cell_type": "code",
   "execution_count": 1,
   "id": "920df7e8",
   "metadata": {},
   "outputs": [],
   "source": [
    "import os"
   ]
  },
  {
   "cell_type": "code",
   "execution_count": 2,
   "id": "5dfb017a",
   "metadata": {},
   "outputs": [
    {
     "data": {
      "text/plain": [
       "'/Users/sk/GFGDS/anaconda'"
      ]
     },
     "execution_count": 2,
     "metadata": {},
     "output_type": "execute_result"
    }
   ],
   "source": [
    "os.getcwd()"
   ]
  },
  {
   "cell_type": "code",
   "execution_count": 3,
   "id": "435fe64a",
   "metadata": {},
   "outputs": [
    {
     "data": {
      "text/plain": [
       "'/Users/sk/GFGDS/anaconda'"
      ]
     },
     "execution_count": 3,
     "metadata": {},
     "output_type": "execute_result"
    }
   ],
   "source": [
    "pwd"
   ]
  },
  {
   "cell_type": "code",
   "execution_count": 4,
   "id": "7a2e72f5",
   "metadata": {},
   "outputs": [
    {
     "name": "stdout",
     "output_type": "stream",
     "text": [
      "Inventory Management System - Overview copy.ipynb\r\n",
      "Inventory Management System - Overview.ipynb\r\n",
      "Inventory Management System -Loading Record.ipynb\r\n",
      "Inventory Management with Files - Updating Inventory (1).ipynb\r\n",
      "Inventory.txt\r\n",
      "Os basic.ipynb\r\n",
      "Record.json\r\n",
      "Records.json\r\n",
      "Sales.txt\r\n",
      "image.py\r\n",
      "matlab_crash_dump.29570-1\r\n",
      "my-upload-key.keystore\r\n"
     ]
    }
   ],
   "source": [
    "ls\n"
   ]
  },
  {
   "cell_type": "code",
   "execution_count": 6,
   "id": "424b8df7",
   "metadata": {},
   "outputs": [
    {
     "name": "stdout",
     "output_type": "stream",
     "text": [
      "/Users/sk/GFGDS\n"
     ]
    }
   ],
   "source": [
    "cd .."
   ]
  },
  {
   "cell_type": "code",
   "execution_count": 7,
   "id": "8c0c2765",
   "metadata": {},
   "outputs": [
    {
     "name": "stdout",
     "output_type": "stream",
     "text": [
      "\u001b[34manaconda\u001b[m\u001b[m/\r\n"
     ]
    }
   ],
   "source": [
    "ls\n"
   ]
  },
  {
   "cell_type": "code",
   "execution_count": 8,
   "id": "a345a12c",
   "metadata": {},
   "outputs": [],
   "source": [
    "os.mkdir(\"gfgnew\")"
   ]
  },
  {
   "cell_type": "code",
   "execution_count": 9,
   "id": "5e22db57",
   "metadata": {},
   "outputs": [],
   "source": [
    "os.makedirs(\"gfg1\")"
   ]
  },
  {
   "cell_type": "code",
   "execution_count": 10,
   "id": "7b3beaf4",
   "metadata": {},
   "outputs": [
    {
     "name": "stdout",
     "output_type": "stream",
     "text": [
      "\u001b[34manaconda\u001b[m\u001b[m/ \u001b[34mgfg1\u001b[m\u001b[m/     \u001b[34mgfgnew\u001b[m\u001b[m/\r\n"
     ]
    }
   ],
   "source": [
    "ls\n"
   ]
  },
  {
   "cell_type": "code",
   "execution_count": 11,
   "id": "0b874d27",
   "metadata": {},
   "outputs": [
    {
     "data": {
      "text/plain": [
       "'gfg1'"
      ]
     },
     "execution_count": 11,
     "metadata": {},
     "output_type": "execute_result"
    }
   ],
   "source": [
    "os.path.join(\"gfg1\")"
   ]
  },
  {
   "cell_type": "markdown",
   "id": "5c5ae8e6",
   "metadata": {},
   "source": [
    " OS Basics   \n",
    "\n",
    "import os : used to import the os library\n",
    "\n",
    "os.getcwd : used to get the current working directory(cwd).\n",
    "\n",
    "os.chdir(“directory_name”) : To go inside a folder.\n",
    "\n",
    "os.chdir(“..”) : To go back to the previous directory.\n",
    "\n",
    "os.mkdir(“file_name”) : To create a directory in the cwd.\n",
    "\n",
    "os.mkdirs(“filename/filename1/filename2”): Used to create directories within directories.\n",
    "\n",
    "os.remove(“File_Name”): can be used to remove a folder but if folder is empty if it contains anything it can’t be used.\n",
    "\n",
    "os.rmdir(“parent_name/sub_directory_name”):\n",
    "\n",
    "Example os.rmdir(“Test/Test1”) then os.rmdir(“Test”)\n",
    "\n",
    "os.rename(‘old_file_name’,’new_file_name’) : used to rename a file\n",
    "\n",
    "os.getsize(“folder_name”) : gives size of folder in kbs."
   ]
  },
  {
   "cell_type": "markdown",
   "id": "225845cf",
   "metadata": {},
   "source": [
    "Note in order to use CLI commands in jupyter we should use ! mark before the command like   !touch file.txt         !ls    !pwd etc\n",
    "\n",
    " \n",
    "\n",
    "To see all the sub-directories contained in a directory\n",
    "\n",
    "Let’s say we have a folder Imgs and want to check all the sub-directories contained in the directory Imgs we can automate this by:\n",
    "\n",
    "for i in os.listdir('Imgs'):\n",
    "\n",
    "    if i != '.DS_Store':  ##System\n",
    "\n",
    "        print(i)\n",
    "\n",
    "This code can be used to print all the sub-directories present inside the directory Imgs.\n",
    "\n",
    " \n",
    "\n",
    "To check If a path exists or not:\n",
    "\n",
    "os.path.exists(“path”): Example os.path.exists(“Imgs/Test1”) this will return a Boolean result.\n",
    "\n",
    "To check if a folder exists if it doesn’t exists then creating the folder.\n",
    "\n",
    "if os.path.exists(\"Imgs/G\"):\n",
    "    print(\"Folder Already Exists!\")\n",
    "else:\n",
    "    os.mkdir('Imgs/G')\n"
   ]
  },
  {
   "cell_type": "code",
   "execution_count": null,
   "id": "103b626e",
   "metadata": {},
   "outputs": [],
   "source": []
  }
 ],
 "metadata": {
  "kernelspec": {
   "display_name": "Python 3 (ipykernel)",
   "language": "python",
   "name": "python3"
  },
  "language_info": {
   "codemirror_mode": {
    "name": "ipython",
    "version": 3
   },
   "file_extension": ".py",
   "mimetype": "text/x-python",
   "name": "python",
   "nbconvert_exporter": "python",
   "pygments_lexer": "ipython3",
   "version": "3.9.7"
  }
 },
 "nbformat": 4,
 "nbformat_minor": 5
}
