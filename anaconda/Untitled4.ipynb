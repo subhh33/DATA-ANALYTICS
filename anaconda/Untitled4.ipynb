{
 "cells": [
  {
   "cell_type": "code",
   "execution_count": 1,
   "id": "2ef97048-0538-412c-8faf-637fc23c7a0a",
   "metadata": {},
   "outputs": [
    {
     "ename": "SyntaxError",
     "evalue": "invalid syntax (4205777769.py, line 2)",
     "output_type": "error",
     "traceback": [
      "\u001b[0;36m  File \u001b[0;32m\"/var/folders/26/dgq4rcbj7jl3khfygn81fp1h0000gn/T/ipykernel_99677/4205777769.py\"\u001b[0;36m, line \u001b[0;32m2\u001b[0m\n\u001b[0;31m    'Age'          :[27, 24, 22, 32],\u001b[0m\n\u001b[0m    ^\u001b[0m\n\u001b[0;31mSyntaxError\u001b[0m\u001b[0;31m:\u001b[0m invalid syntax\n"
     ]
    }
   ],
   "source": [
    "data = { 'Day'         :['Monday', 'Tuesday', 'Wednesday', 'Thursday','Friday','Saturday']\n",
    "         'Age'          :[27, 24, 22, 32,44,5,55,55,],\n",
    "         'Address'      :['Delhi', 'Kanpur', 'Allahabad', 'Kannauj'],\n",
    "         'Qualification':['Msc', 'MA', 'MCA', 'Phd']}\n",
    "\n",
    "df = pd.DataFrame(data)\n",
    "\n",
    "df[['Day','Monday', 'Tuesday', 'Wednesday', 'Thursday','Friday','Saturday']]"
   ]
  },
  {
   "cell_type": "code",
   "execution_count": null,
   "id": "d94585b2-2ba9-451d-a398-ddeb0d84533d",
   "metadata": {},
   "outputs": [],
   "source": []
  }
 ],
 "metadata": {
  "kernelspec": {
   "display_name": "Python 3 (ipykernel)",
   "language": "python",
   "name": "python3"
  },
  "language_info": {
   "codemirror_mode": {
    "name": "ipython",
    "version": 3
   },
   "file_extension": ".py",
   "mimetype": "text/x-python",
   "name": "python",
   "nbconvert_exporter": "python",
   "pygments_lexer": "ipython3",
   "version": "3.9.7"
  }
 },
 "nbformat": 4,
 "nbformat_minor": 5
}
